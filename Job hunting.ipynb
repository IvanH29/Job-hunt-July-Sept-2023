{
 "cells": [
  {
   "cell_type": "code",
   "execution_count": 2,
   "id": "5fa97b35",
   "metadata": {},
   "outputs": [
    {
     "data": {
      "image/svg+xml": [
       "<svg class=\"main-svg\" xmlns=\"http://www.w3.org/2000/svg\" xmlns:xlink=\"http://www.w3.org/1999/xlink\" width=\"700\" height=\"500\" style=\"\" viewBox=\"0 0 700 500\"><rect x=\"0\" y=\"0\" width=\"700\" height=\"500\" style=\"fill: rgb(255, 255, 255); fill-opacity: 1;\"/><defs id=\"defs-5b77e0\"><g class=\"clips\"/><g class=\"gradients\"/><g class=\"patterns\"/></defs><g class=\"bglayer\"/><g class=\"layer-below\"><g class=\"imagelayer\"/><g class=\"shapelayer\"/></g><g class=\"cartesianlayer\"/><g class=\"polarlayer\"/><g class=\"smithlayer\"/><g class=\"ternarylayer\"/><g class=\"geolayer\"/><g class=\"funnelarealayer\"/><g class=\"pielayer\"/><g class=\"iciclelayer\"/><g class=\"treemaplayer\"/><g class=\"sunburstlayer\"/><g class=\"glimages\"/><g class=\"sankey\" transform=\"translate(80,100)matrix(1 0 0 1 0 0)\" style=\"box-sizing: content-box; position: absolute; left: 0px; shape-rendering: geometricprecision; pointer-events: auto;\"><g class=\"sankey-links\" style=\"fill: none;\"><path class=\"sankey-link\" d=\"M20,195.5660377358493C270,195.5660377358493 270,244.81132075471697 520,244.81132075471697L520,283.1132075471698C270,283.1132075471698 270,233.86792452830213 20,233.86792452830213Z\" style=\"stroke: rgb(68, 68, 68); stroke-opacity: 1; fill: rgb(0, 0, 0); fill-opacity: 0.2; stroke-width: 0; opacity: 1;\"/><path class=\"sankey-link\" d=\"M20,17.735849056604025C270,17.735849056604025 270,9.947598300641403e-14 520,9.947598300641403e-14L520,177.8301886792454C270,177.8301886792454 270,195.5660377358493 20,195.5660377358493Z\" style=\"stroke: rgb(68, 68, 68); stroke-opacity: 1; fill: rgb(0, 0, 0); fill-opacity: 0.2; stroke-width: 0; opacity: 1;\"/><path class=\"sankey-link\" d=\"M20,314.52830188679275C96.66666666666667,314.52830188679275 96.66666666666667,285.0585530327884 173.33333333333334,285.0585530327884L173.33333333333334,290.530251145996C96.66666666666667,290.530251145996 96.66666666666667,320.00000000000034 20,320.00000000000034Z\" style=\"stroke: rgb(68, 68, 68); stroke-opacity: 1; fill: rgb(0, 0, 0); fill-opacity: 0.2; stroke-width: 0; opacity: 1;\"/><path class=\"sankey-link\" d=\"M20,300.8490566037739C270,300.8490566037739 270,283.1132075471698 520,283.1132075471698L520,296.79245283018867C270,296.79245283018867 270,314.52830188679275 20,314.52830188679275Z\" style=\"stroke: rgb(68, 68, 68); stroke-opacity: 1; fill: rgb(0, 0, 0); fill-opacity: 0.2; stroke-width: 0; opacity: 1;\"/><path class=\"sankey-link\" d=\"M20,248.86792452830218C270,248.86792452830218 270,177.83018867924537 520,177.83018867924537L520,229.81132075471706C270,229.81132075471706 270,300.8490566037739 20,300.8490566037739Z\" style=\"stroke: rgb(68, 68, 68); stroke-opacity: 1; fill: rgb(0, 0, 0); fill-opacity: 0.2; stroke-width: 0; opacity: 1;\"/><path class=\"sankey-link\" d=\"M193.33333333333334,285.0585530327884C270,285.0585530327884 270,287.9891384605703 346.6666666666667,287.9891384605703L346.6666666666667,293.4608365737779C270,293.4608365737779 270,290.530251145996 193.33333333333334,290.530251145996Z\" style=\"stroke: rgb(68, 68, 68); stroke-opacity: 1; fill: rgb(0, 0, 0); fill-opacity: 0.2; stroke-width: 0; opacity: 1;\"/><path class=\"sankey-link\" d=\"M193.33333333333334,290.5302511459959C356.6666666666667,290.5302511459959 356.6666666666667,314.5283018867924 520,314.5283018867924L520,317.2641509433962C356.6666666666667,317.2641509433962 356.6666666666667,293.2661002025997 193.33333333333334,293.2661002025997Z\" style=\"stroke: rgb(68, 68, 68); stroke-opacity: 1; fill: rgb(0, 0, 0); fill-opacity: 0.2; stroke-width: 0; opacity: 1;\"/><path class=\"sankey-link\" d=\"M366.6666666666667,290.7249875171741C443.33333333333337,290.7249875171741 443.33333333333337,317.2641509433962 520,317.2641509433962L520,320C443.33333333333337,320 443.33333333333337,293.4608365737779 366.6666666666667,293.4608365737779Z\" style=\"stroke: rgb(68, 68, 68); stroke-opacity: 1; fill: rgb(0, 0, 0); fill-opacity: 0.2; stroke-width: 0; opacity: 1;\"/><path class=\"sankey-link\" d=\"M366.6666666666667,287.9891384605703C443.33333333333337,287.9891384605703 443.33333333333337,296.79245283018867 520,296.79245283018867L520,299.52830188679246C443.33333333333337,299.52830188679246 443.33333333333337,290.7249875171741 366.6666666666667,290.7249875171741Z\" style=\"stroke: rgb(68, 68, 68); stroke-opacity: 1; fill: rgb(0, 0, 0); fill-opacity: 0.2; stroke-width: 0; opacity: 1;\"/></g><g class=\"sankey-node-set\" style=\"cursor: move;\"><g class=\"sankey-node\" transform=\"translate(0.000,17.736)\" style=\"opacity: 1;\"><rect class=\"node-rect\" width=\"20\" height=\"216.13207547169816\" style=\"stroke-width: 2; stroke: rgb(255, 255, 255); stroke-opacity: 1; fill: rgb(255, 228, 181); fill-opacity: 1;\"/><text class=\"node-label\" data-notex=\"1\" x=\"0\" y=\"0\" text-anchor=\"start\" transform=\"translate(24,111.56603773584908)\" style=\"cursor: default; font-family: 'Open Sans', verdana, arial, sans-serif; font-size: 10px; fill: rgb(42, 63, 95); fill-opacity: 1; white-space: pre; text-shadow: white 1px 1px 1px, white -1px -1px 1px, white 1px -1px 1px, white -1px 1px 1px;\">Data Analytics jobs applied</text></g><g class=\"sankey-node\" transform=\"translate(0.000,248.868)\" style=\"opacity: 1;\"><rect class=\"node-rect\" width=\"20\" height=\"71.13207547169782\" style=\"stroke-width: 2; stroke: rgb(255, 255, 255); stroke-opacity: 1; fill: rgb(255, 228, 181); fill-opacity: 1;\"/><text class=\"node-label\" data-notex=\"1\" x=\"0\" y=\"0\" text-anchor=\"start\" transform=\"translate(24,39.06603773584891)\" style=\"cursor: default; font-family: 'Open Sans', verdana, arial, sans-serif; font-size: 10px; fill: rgb(42, 63, 95); fill-opacity: 1; white-space: pre; text-shadow: white 1px 1px 1px, white -1px -1px 1px, white 1px -1px 1px, white -1px 1px 1px;\">Customer Service jobs applied</text></g><g class=\"sankey-node\" transform=\"translate(173.333,285.059)\" style=\"opacity: 1;\"><rect class=\"node-rect\" width=\"20\" height=\"8.207547169811278\" style=\"stroke-width: 2; stroke: rgb(255, 255, 255); stroke-opacity: 1; fill: rgb(255, 228, 181); fill-opacity: 1;\"/><text class=\"node-label\" data-notex=\"1\" x=\"0\" y=\"0\" text-anchor=\"start\" transform=\"translate(24,7.603773584905639)\" style=\"cursor: default; font-family: 'Open Sans', verdana, arial, sans-serif; font-size: 10px; fill: rgb(42, 63, 95); fill-opacity: 1; white-space: pre; text-shadow: white 1px 1px 1px, white -1px -1px 1px, white 1px -1px 1px, white -1px 1px 1px;\">Interviewed</text></g><g class=\"sankey-node\" transform=\"translate(520.000,244.811)\" style=\"opacity: 1;\"><rect class=\"node-rect\" width=\"20\" height=\"54.71698113207543\" style=\"stroke-width: 2; stroke: rgb(255, 255, 255); stroke-opacity: 1; fill: rgb(255, 228, 181); fill-opacity: 1;\"/><text class=\"node-label\" data-notex=\"1\" x=\"0\" y=\"0\" text-anchor=\"end\" transform=\"translate(-4,30.858490566037716)\" style=\"cursor: default; font-family: 'Open Sans', verdana, arial, sans-serif; font-size: 10px; fill: rgb(42, 63, 95); fill-opacity: 1; white-space: pre; text-shadow: white 1px 1px 1px, white -1px -1px 1px, white 1px -1px 1px, white -1px 1px 1px;\">Rejected</text></g><g class=\"sankey-node\" transform=\"translate(520.000,0.000)\" style=\"opacity: 1;\"><rect class=\"node-rect\" width=\"20\" height=\"229.8113207547169\" style=\"stroke-width: 2; stroke: rgb(255, 255, 255); stroke-opacity: 1; fill: rgb(255, 228, 181); fill-opacity: 1;\"/><text class=\"node-label\" data-notex=\"1\" x=\"0\" y=\"0\" text-anchor=\"end\" transform=\"translate(-4,118.40566037735844)\" style=\"cursor: default; font-family: 'Open Sans', verdana, arial, sans-serif; font-size: 10px; fill: rgb(42, 63, 95); fill-opacity: 1; white-space: pre; text-shadow: white 1px 1px 1px, white -1px -1px 1px, white 1px -1px 1px, white -1px 1px 1px;\">Did not answer</text></g><g class=\"sankey-node\" transform=\"translate(346.667,287.989)\" style=\"opacity: 1;\"><rect class=\"node-rect\" width=\"20\" height=\"5.471698113207594\" style=\"stroke-width: 2; stroke: rgb(255, 255, 255); stroke-opacity: 1; fill: rgb(255, 228, 181); fill-opacity: 1;\"/><text class=\"node-label\" data-notex=\"1\" x=\"0\" y=\"0\" text-anchor=\"start\" transform=\"translate(24,6.235849056603797)\" style=\"cursor: default; font-family: 'Open Sans', verdana, arial, sans-serif; font-size: 10px; fill: rgb(42, 63, 95); fill-opacity: 1; white-space: pre; text-shadow: white 1px 1px 1px, white -1px -1px 1px, white 1px -1px 1px, white -1px 1px 1px;\">2nd interview</text></g><g class=\"sankey-node\" transform=\"translate(520.000,314.528)\" style=\"opacity: 1;\"><rect class=\"node-rect\" width=\"20\" height=\"5.471698113207594\" style=\"stroke-width: 2; stroke: rgb(255, 255, 255); stroke-opacity: 1; fill: rgb(255, 228, 181); fill-opacity: 1;\"/><text class=\"node-label\" data-notex=\"1\" x=\"0\" y=\"0\" text-anchor=\"end\" transform=\"translate(-4,6.235849056603797)\" style=\"cursor: default; font-family: 'Open Sans', verdana, arial, sans-serif; font-size: 10px; fill: rgb(42, 63, 95); fill-opacity: 1; white-space: pre; text-shadow: white 1px 1px 1px, white -1px -1px 1px, white 1px -1px 1px, white -1px 1px 1px;\">No reply</text></g></g></g><defs id=\"topdefs-5b77e0\"><g class=\"clips\"/></defs><g class=\"layer-above\"><g class=\"imagelayer\"/><g class=\"shapelayer\"/></g><g class=\"infolayer\"><g class=\"g-gtitle\"><text class=\"gtitle\" x=\"35\" y=\"50\" text-anchor=\"start\" dy=\"0em\" style=\"font-family: 'Open Sans', verdana, arial, sans-serif; font-size: 14px; fill: rgb(42, 63, 95); opacity: 1; font-weight: normal; white-space: pre;\">My job hunting results in 2 months</text></g><g class=\"first-render\"/></g></svg>"
      ]
     },
     "metadata": {},
     "output_type": "display_data"
    }
   ],
   "source": [
    "import plotly.graph_objects as go\n",
    "import plotly.io as pio\n",
    "\n",
    "pio.renderers\n",
    "fig = go.Figure(data=[go.Sankey(\n",
    "    node = dict(\n",
    "      pad = 15,\n",
    "      thickness = 20,\n",
    "      line = dict(color = \"white\", width = 2),\n",
    "      label = [\"Data Analytics jobs applied\", \"Customer Service jobs applied\", \"Interviewed\", \"Rejected\", \"Did not answer\",\n",
    "              \"2nd interview\", \"No reply\", \"Job offer\"],\n",
    "      color = \"moccasin\"\n",
    "    ),\n",
    "    link = dict(\n",
    "      source = [0, 0, 0, 1, 1, 1, 2, 2, 2, 5, 5, 5],\n",
    "      target = [2, 3, 4, 2, 3, 4, 5, 6, 7, 6, 7, 3],\n",
    "      value = [0, 14, 65, 2, 5,19,2, 1, 0, 1, 0, 1]\n",
    "  ))])\n",
    "\n",
    "fig.update_layout(title_text=\"My job hunting results in 2 months\", font_size=10)\n",
    "fig.show(renderer=\"svg\")"
   ]
  }
 ],
 "metadata": {
  "kernelspec": {
   "display_name": "Python 3 (ipykernel)",
   "language": "python",
   "name": "python3"
  },
  "language_info": {
   "codemirror_mode": {
    "name": "ipython",
    "version": 3
   },
   "file_extension": ".py",
   "mimetype": "text/x-python",
   "name": "python",
   "nbconvert_exporter": "python",
   "pygments_lexer": "ipython3",
   "version": "3.11.3"
  }
 },
 "nbformat": 4,
 "nbformat_minor": 5
}
